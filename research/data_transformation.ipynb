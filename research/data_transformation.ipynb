{
 "cells": [
  {
   "cell_type": "markdown",
   "id": "58fe8b3d",
   "metadata": {},
   "source": [
    "## data transformation"
   ]
  },
  {
   "cell_type": "markdown",
   "id": "c400d967",
   "metadata": {},
   "source": []
  },
  {
   "cell_type": "code",
   "execution_count": 2,
   "id": "f28400b7",
   "metadata": {},
   "outputs": [
    {
     "data": {
      "text/plain": [
       "2"
      ]
     },
     "execution_count": 2,
     "metadata": {},
     "output_type": "execute_result"
    }
   ],
   "source": [
    "1+1"
   ]
  },
  {
   "cell_type": "code",
   "execution_count": 3,
   "id": "907a7c5f",
   "metadata": {},
   "outputs": [
    {
     "data": {
      "text/plain": [
       "'/Users/satwiksahoo/Desktop/CodeBasics/machine learning/krish naik/NLP project/text_summarizer/research'"
      ]
     },
     "execution_count": 3,
     "metadata": {},
     "output_type": "execute_result"
    }
   ],
   "source": [
    "import os\n",
    "%pwd"
   ]
  },
  {
   "cell_type": "code",
   "execution_count": 4,
   "id": "69cc8ed0",
   "metadata": {},
   "outputs": [],
   "source": [
    "os.chdir('../')"
   ]
  },
  {
   "cell_type": "code",
   "execution_count": 5,
   "id": "39ca6fc5",
   "metadata": {},
   "outputs": [
    {
     "data": {
      "text/plain": [
       "'/Users/satwiksahoo/Desktop/CodeBasics/machine learning/krish naik/NLP project/text_summarizer'"
      ]
     },
     "execution_count": 5,
     "metadata": {},
     "output_type": "execute_result"
    }
   ],
   "source": [
    "%pwd"
   ]
  },
  {
   "cell_type": "code",
   "execution_count": 7,
   "id": "a0633620",
   "metadata": {},
   "outputs": [],
   "source": [
    "from dataclasses import dataclass\n",
    "from pathlib import Path\n",
    "\n",
    "@dataclass\n",
    "class dataTransformationConfig:\n",
    "    root_dir: Path\n",
    "    data_path : Path\n",
    "    tokenizer_name : Path\n",
    "    \n"
   ]
  },
  {
   "cell_type": "code",
   "execution_count": 13,
   "id": "05e98b2a",
   "metadata": {},
   "outputs": [],
   "source": [
    "from src.textSummarizer.constants import *\n",
    "from src.textSummarizer.utils.common import read_yaml , create_directories\n",
    "\n",
    "class ConfigurationManager:\n",
    "    def __init__(self , config_file_path = CONFIG_FILE_PATH , params_file_path = PARAMS_FILE_PATH):\n",
    "        self.config = read_yaml(config_file_path)\n",
    "        self.params = read_yaml(params_file_path)\n",
    "        \n",
    "        create_directories([self.config.artifacts_root]) \n",
    "        \n",
    "    def get_data_transformation_config(self) ->  dataTransformationConfig:\n",
    "        config = self.config.data_transformation\n",
    "        create_directories([config.root_dir])\n",
    "        \n",
    "        \n",
    "        data_transformation_config = dataTransformationConfig(\n",
    "            \n",
    "            \n",
    "            root_dir = config.root_dir,\n",
    "            data_path = config.data_path,\n",
    "            tokenizer_name = config.tokenizer_name\n",
    "            \n",
    "            \n",
    "        )  \n",
    "        \n",
    "        \n",
    "        return data_transformation_config\n",
    "        \n",
    "  "
   ]
  },
  {
   "cell_type": "code",
   "execution_count": 37,
   "id": "3318f606",
   "metadata": {},
   "outputs": [],
   "source": [
    "from transformers import AutoTokenizer, AutoModelForSeq2SeqLM\n",
    "from src.textSummarizer.logging import logger\n",
    "import os\n",
    "from datasets import load_from_disk \n",
    "import pandas as pd\n",
    "import re\n",
    "from datasets import Dataset\n",
    "\n",
    "\n",
    "class DataTransformation:\n",
    "    def __init__(self , config : dataTransformationConfig):\n",
    "        self.config = config \n",
    "        self.tokenizer = AutoTokenizer.from_pretrained(config.tokenizer_name) \n",
    "    \n",
    "    def preprocess_text(self , text):\n",
    "        tokens = []\n",
    "        text = re.sub(r'\\r\\n|\\n', ' ', text)\n",
    "        text = re.sub(r'\\s+', ' ', text)\n",
    "        text = re.sub(r'<.*?>', ' ', text)\n",
    "        text = text.strip().lower()\n",
    "        \n",
    "        return text\n",
    "    \n",
    "    def convert(self):\n",
    "        dataset = load_from_disk(self.config.data_path)\n",
    "        \n",
    "        training_data = dataset['train']\n",
    "        test_data = dataset['test']\n",
    "        validation_data = dataset['validation']\n",
    "        \n",
    "        df_train = pd.DataFrame(training_data)\n",
    "        df_test = pd.DataFrame(test_data)\n",
    "        df_validation = pd.DataFrame(validation_data)\n",
    "        \n",
    "        df_train_small = df_train.sample(n= 6000 , random_state = 42).reset_index(drop = True)\n",
    "        df_test_small = df_test.sample(n= 600 , random_state = 42).reset_index(drop = True)\n",
    "        df_validation_small = df_validation.sample(n= 600 , random_state = 42).reset_index(drop = True)\n",
    "         \n",
    "        df_train_small['preprocess_text'] = df_train_small['dialogue'].apply(self.preprocess_text)\n",
    "        df_test_small['preprocess_text'] = df_test_small['dialogue'].apply(self.preprocess_text)\n",
    "        df_validation_small['preprocess_text'] = df_validation_small['dialogue'].apply(self.preprocess_text)\n",
    "        \n",
    "        train_dataset = Dataset.from_pandas(df_train_small)\n",
    "        test_dataset = Dataset.from_pandas(df_test_small)\n",
    "        validation_dataset = Dataset.from_pandas(df_validation_small)\n",
    "        \n",
    "        \n",
    "        train_dataset.save_to_disk(os.path.join(self.config.root_dir , 'train_dataset'))\n",
    "        test_dataset.save_to_disk(os.path.join(self.config.root_dir , 'test_dataset'))\n",
    "        validation_dataset.save_to_disk(os.path.join(self.config.root_dir , 'validation_dataset'))\n",
    "        \n",
    "        \n",
    "        \n",
    "    \n",
    "    \n",
    "    \n",
    "    "
   ]
  },
  {
   "cell_type": "code",
   "execution_count": 38,
   "id": "574a23c0",
   "metadata": {},
   "outputs": [
    {
     "name": "stdout",
     "output_type": "stream",
     "text": [
      "[2025-08-14 13:38:02,896: INFO: common: yaml file: config/config.yaml loaded successfully]\n",
      "[2025-08-14 13:38:02,898: INFO: common: yaml file: params.yaml loaded successfully]\n",
      "[2025-08-14 13:38:02,899: INFO: common: created directory at: artifacts]\n",
      "[2025-08-14 13:38:02,899: INFO: common: created directory at: artifacts/data_transformation]\n"
     ]
    },
    {
     "name": "stderr",
     "output_type": "stream",
     "text": [
      "Saving the dataset (1/1 shards): 100%|██████████| 6000/6000 [00:00<00:00, 841159.97 examples/s] \n",
      "Saving the dataset (1/1 shards): 100%|██████████| 600/600 [00:00<00:00, 331652.93 examples/s]\n",
      "Saving the dataset (1/1 shards): 100%|██████████| 600/600 [00:00<00:00, 186676.24 examples/s]\n"
     ]
    }
   ],
   "source": [
    "config = ConfigurationManager()\n",
    "data_transformation_config = config.get_data_transformation_config()\n",
    "data_transformation = DataTransformation(config = data_transformation_config)\n",
    "data_transformation.convert()"
   ]
  },
  {
   "cell_type": "code",
   "execution_count": null,
   "id": "cc02a72a",
   "metadata": {},
   "outputs": [],
   "source": []
  }
 ],
 "metadata": {
  "kernelspec": {
   "display_name": "Python 3",
   "language": "python",
   "name": "python3"
  },
  "language_info": {
   "codemirror_mode": {
    "name": "ipython",
    "version": 3
   },
   "file_extension": ".py",
   "mimetype": "text/x-python",
   "name": "python",
   "nbconvert_exporter": "python",
   "pygments_lexer": "ipython3",
   "version": "3.10.0"
  }
 },
 "nbformat": 4,
 "nbformat_minor": 5
}
